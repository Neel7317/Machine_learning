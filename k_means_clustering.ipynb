{
  "nbformat": 4,
  "nbformat_minor": 0,
  "metadata": {
    "colab": {
      "name": "k_means_clustering.ipynb",
      "provenance": [],
      "authorship_tag": "ABX9TyPrE21OepZe30S902He2R67",
      "include_colab_link": true
    },
    "kernelspec": {
      "name": "python3",
      "display_name": "Python 3"
    }
  },
  "cells": [
    {
      "cell_type": "markdown",
      "metadata": {
        "id": "view-in-github",
        "colab_type": "text"
      },
      "source": [
        "<a href=\"https://colab.research.google.com/github/Neel7317/Machine_learning/blob/master/k_means_clustering.ipynb\" target=\"_parent\"><img src=\"https://colab.research.google.com/assets/colab-badge.svg\" alt=\"Open In Colab\"/></a>"
      ]
    },
    {
      "cell_type": "code",
      "metadata": {
        "id": "z4HI4c3dt1E9"
      },
      "source": [
        "import pandas as pd\r\n",
        "import numpy as np \r\n",
        "import matplotlib.pyplot as plt\r\n",
        "from sklearn.cluster import KMeans"
      ],
      "execution_count": 1,
      "outputs": []
    },
    {
      "cell_type": "code",
      "metadata": {
        "id": "7UdGssA-u9KY"
      },
      "source": [
        "x1=10*np.random.rand(100,2)"
      ],
      "execution_count": 2,
      "outputs": []
    },
    {
      "cell_type": "code",
      "metadata": {
        "colab": {
          "base_uri": "https://localhost:8080/"
        },
        "id": "DhBXDGUYvKwU",
        "outputId": "6d5f92c7-ba28-4064-9fb3-0676f33cc846"
      },
      "source": [
        "x1.shape"
      ],
      "execution_count": 3,
      "outputs": [
        {
          "output_type": "execute_result",
          "data": {
            "text/plain": [
              "(100, 2)"
            ]
          },
          "metadata": {
            "tags": []
          },
          "execution_count": 3
        }
      ]
    },
    {
      "cell_type": "code",
      "metadata": {
        "colab": {
          "base_uri": "https://localhost:8080/"
        },
        "id": "Vsw-ADSNvRtu",
        "outputId": "938bc25f-f7ca-429e-e11c-7560fb2fa852"
      },
      "source": [
        "kmean=KMeans(n_clusters=3)\r\n",
        "kmean.fit(x1)"
      ],
      "execution_count": 5,
      "outputs": [
        {
          "output_type": "execute_result",
          "data": {
            "text/plain": [
              "KMeans(algorithm='auto', copy_x=True, init='k-means++', max_iter=300,\n",
              "       n_clusters=3, n_init=10, n_jobs=None, precompute_distances='auto',\n",
              "       random_state=None, tol=0.0001, verbose=0)"
            ]
          },
          "metadata": {
            "tags": []
          },
          "execution_count": 5
        }
      ]
    },
    {
      "cell_type": "code",
      "metadata": {
        "colab": {
          "base_uri": "https://localhost:8080/"
        },
        "id": "8Ov1qAdlv3gI",
        "outputId": "2303ca84-13c0-470c-e013-375fe9f8d7f0"
      },
      "source": [
        "kmean.cluster_centers_"
      ],
      "execution_count": 6,
      "outputs": [
        {
          "output_type": "execute_result",
          "data": {
            "text/plain": [
              "array([[8.0879829 , 2.96536641],\n",
              "       [1.99330267, 3.07381596],\n",
              "       [4.86354412, 7.87767244]])"
            ]
          },
          "metadata": {
            "tags": []
          },
          "execution_count": 6
        }
      ]
    },
    {
      "cell_type": "code",
      "metadata": {
        "colab": {
          "base_uri": "https://localhost:8080/"
        },
        "id": "_8_EXPbEv9PP",
        "outputId": "5c6ed194-bb2d-408c-8062-16fd3a6a2a9a"
      },
      "source": [
        "kmean.labels_"
      ],
      "execution_count": 7,
      "outputs": [
        {
          "output_type": "execute_result",
          "data": {
            "text/plain": [
              "array([1, 2, 1, 0, 2, 2, 1, 1, 1, 0, 0, 2, 0, 0, 1, 0, 0, 0, 2, 0, 2, 1,\n",
              "       0, 0, 2, 2, 1, 2, 1, 1, 1, 1, 1, 1, 2, 0, 1, 2, 2, 2, 1, 2, 2, 0,\n",
              "       2, 0, 1, 2, 2, 0, 2, 0, 1, 2, 0, 2, 0, 1, 2, 0, 0, 2, 2, 0, 2, 1,\n",
              "       1, 2, 1, 0, 2, 1, 0, 0, 0, 2, 1, 0, 1, 2, 2, 1, 0, 2, 2, 1, 1, 1,\n",
              "       2, 2, 1, 1, 2, 2, 1, 2, 2, 1, 0, 0], dtype=int32)"
            ]
          },
          "metadata": {
            "tags": []
          },
          "execution_count": 7
        }
      ]
    },
    {
      "cell_type": "code",
      "metadata": {
        "colab": {
          "base_uri": "https://localhost:8080/",
          "height": 613
        },
        "id": "_wSV18ikwBFS",
        "outputId": "8f717ee6-812a-45ed-f899-95fa7076a9d7"
      },
      "source": [
        "wcss = []\r\n",
        "for i in range(1,20):\r\n",
        " kmeans = KMeans(n_clusters=i,init='k-means++', n_init=10, max_iter=300, random_state=0)\r\n",
        " kmeans.fit(x1)\r\n",
        " wcss.append(kmeans.inertia_)\r\n",
        " print(\"Cluster\", i, \"Inertia\", kmeans.inertia_)\r\n",
        "plt.plot(range(1,20),wcss)\r\n",
        "plt.title(\"The Elbow Curve\")\r\n",
        "plt.xlabel(\"Number of clusters\")\r\n",
        "plt.ylabel(\"WCSS\") ##WCSS stands for total within-cluster sum of square\r\n",
        "plt.show()"
      ],
      "execution_count": 13,
      "outputs": [
        {
          "output_type": "stream",
          "text": [
            "Cluster 1 Inertia 1698.9454914872729\n",
            "Cluster 2 Inertia 1004.1381263995786\n",
            "Cluster 3 Inertia 570.2476277302565\n",
            "Cluster 4 Inertia 381.7368528553623\n",
            "Cluster 5 Inertia 316.01533222151545\n",
            "Cluster 6 Inertia 267.7866027922063\n",
            "Cluster 7 Inertia 227.5324829335059\n",
            "Cluster 8 Inertia 193.90879015909894\n",
            "Cluster 9 Inertia 166.28970909828905\n",
            "Cluster 10 Inertia 149.6618867363316\n",
            "Cluster 11 Inertia 130.8964131026011\n",
            "Cluster 12 Inertia 114.36977953827527\n",
            "Cluster 13 Inertia 105.4184912356333\n",
            "Cluster 14 Inertia 92.02155069559852\n",
            "Cluster 15 Inertia 85.13998829822103\n",
            "Cluster 16 Inertia 76.73597942267838\n",
            "Cluster 17 Inertia 71.55353191278596\n",
            "Cluster 18 Inertia 65.8596913830976\n",
            "Cluster 19 Inertia 60.190883295044344\n"
          ],
          "name": "stdout"
        },
        {
          "output_type": "display_data",
          "data": {
            "image/png": "[encoded data removed]",
            "text/plain": [
              "<Figure size 432x288 with 1 Axes>"
            ]
          },
          "metadata": {
            "tags": [],
            "needs_background": "light"
          }
        }
      ]
    },
    {
      "cell_type": "code",
      "metadata": {
        "colab": {
          "base_uri": "https://localhost:8080/"
        },
        "id": "cn9bpHJSwLon",
        "outputId": "898d2ae8-e920-4106-b5c9-590f317f59cb"
      },
      "source": [
        "kmean=KMeans(n_clusters=10)\r\n",
        "kmean.fit(x1)"
      ],
      "execution_count": 15,
      "outputs": [
        {
          "output_type": "execute_result",
          "data": {
            "text/plain": [
              "KMeans(algorithm='auto', copy_x=True, init='k-means++', max_iter=300,\n",
              "       n_clusters=10, n_init=10, n_jobs=None, precompute_distances='auto',\n",
              "       random_state=None, tol=0.0001, verbose=0)"
            ]
          },
          "metadata": {
            "tags": []
          },
          "execution_count": 15
        }
      ]
    },
    {
      "cell_type": "code",
      "metadata": {
        "id": "bdaK8SIOx6LU"
      },
      "source": [
        "\r\n",
        "#import libraries\r\n",
        "import pandas as pd\r\n",
        "import numpy as np\r\n",
        "import random as rd\r\n",
        "import matplotlib.pyplot as plt"
      ],
      "execution_count": 16,
      "outputs": []
    },
    {
      "cell_type": "code",
      "metadata": {
        "colab": {
          "base_uri": "https://localhost:8080/",
          "height": 249
        },
        "id": "jj2JCrfm2N8m",
        "outputId": "d083911d-0550-41b0-984b-5b02ae51c5a0"
      },
      "source": [
        "data = pd.read_csv('clustering.csv')\r\n",
        "data.head()"
      ],
      "execution_count": 17,
      "outputs": [
        {
          "output_type": "execute_result",
          "data": {
            "text/html": [
              "<div>\n",
              "<style scoped>\n",
              "    .dataframe tbody tr th:only-of-type {\n",
              "        vertical-align: middle;\n",
              "    }\n",
              "\n",
              "    .dataframe tbody tr th {\n",
              "        vertical-align: top;\n",
              "    }\n",
              "\n",
              "    .dataframe thead th {\n",
              "        text-align: right;\n",
              "    }\n",
              "</style>\n",
              "<table border=\"1\" class=\"dataframe\">\n",
              "  <thead>\n",
              "    <tr style=\"text-align: right;\">\n",
              "      <th></th>\n",
              "      <th>Loan_ID</th>\n",
              "      <th>Gender</th>\n",
              "      <th>Married</th>\n",
              "      <th>Dependents</th>\n",
              "      <th>Education</th>\n",
              "      <th>Self_Employed</th>\n",
              "      <th>ApplicantIncome</th>\n",
              "      <th>CoapplicantIncome</th>\n",
              "      <th>LoanAmount</th>\n",
              "      <th>Loan_Amount_Term</th>\n",
              "      <th>Credit_History</th>\n",
              "      <th>Property_Area</th>\n",
              "      <th>Loan_Status</th>\n",
              "    </tr>\n",
              "  </thead>\n",
              "  <tbody>\n",
              "    <tr>\n",
              "      <th>0</th>\n",
              "      <td>LP001003</td>\n",
              "      <td>Male</td>\n",
              "      <td>Yes</td>\n",
              "      <td>1</td>\n",
              "      <td>Graduate</td>\n",
              "      <td>No</td>\n",
              "      <td>4583</td>\n",
              "      <td>1508.0</td>\n",
              "      <td>128.0</td>\n",
              "      <td>360.0</td>\n",
              "      <td>1.0</td>\n",
              "      <td>Rural</td>\n",
              "      <td>N</td>\n",
              "    </tr>\n",
              "    <tr>\n",
              "      <th>1</th>\n",
              "      <td>LP001005</td>\n",
              "      <td>Male</td>\n",
              "      <td>Yes</td>\n",
              "      <td>0</td>\n",
              "      <td>Graduate</td>\n",
              "      <td>Yes</td>\n",
              "      <td>3000</td>\n",
              "      <td>0.0</td>\n",
              "      <td>66.0</td>\n",
              "      <td>360.0</td>\n",
              "      <td>1.0</td>\n",
              "      <td>Urban</td>\n",
              "      <td>Y</td>\n",
              "    </tr>\n",
              "    <tr>\n",
              "      <th>2</th>\n",
              "      <td>LP001006</td>\n",
              "      <td>Male</td>\n",
              "      <td>Yes</td>\n",
              "      <td>0</td>\n",
              "      <td>Not Graduate</td>\n",
              "      <td>No</td>\n",
              "      <td>2583</td>\n",
              "      <td>2358.0</td>\n",
              "      <td>120.0</td>\n",
              "      <td>360.0</td>\n",
              "      <td>1.0</td>\n",
              "      <td>Urban</td>\n",
              "      <td>Y</td>\n",
              "    </tr>\n",
              "    <tr>\n",
              "      <th>3</th>\n",
              "      <td>LP001008</td>\n",
              "      <td>Male</td>\n",
              "      <td>No</td>\n",
              "      <td>0</td>\n",
              "      <td>Graduate</td>\n",
              "      <td>No</td>\n",
              "      <td>6000</td>\n",
              "      <td>0.0</td>\n",
              "      <td>141.0</td>\n",
              "      <td>360.0</td>\n",
              "      <td>1.0</td>\n",
              "      <td>Urban</td>\n",
              "      <td>Y</td>\n",
              "    </tr>\n",
              "    <tr>\n",
              "      <th>4</th>\n",
              "      <td>LP001013</td>\n",
              "      <td>Male</td>\n",
              "      <td>Yes</td>\n",
              "      <td>0</td>\n",
              "      <td>Not Graduate</td>\n",
              "      <td>No</td>\n",
              "      <td>2333</td>\n",
              "      <td>1516.0</td>\n",
              "      <td>95.0</td>\n",
              "      <td>360.0</td>\n",
              "      <td>1.0</td>\n",
              "      <td>Urban</td>\n",
              "      <td>Y</td>\n",
              "    </tr>\n",
              "  </tbody>\n",
              "</table>\n",
              "</div>"
            ],
            "text/plain": [
              "    Loan_ID Gender Married  ... Credit_History Property_Area Loan_Status\n",
              "0  LP001003   Male     Yes  ...            1.0         Rural           N\n",
              "1  LP001005   Male     Yes  ...            1.0         Urban           Y\n",
              "2  LP001006   Male     Yes  ...            1.0         Urban           Y\n",
              "3  LP001008   Male      No  ...            1.0         Urban           Y\n",
              "4  LP001013   Male     Yes  ...            1.0         Urban           Y\n",
              "\n",
              "[5 rows x 13 columns]"
            ]
          },
          "metadata": {
            "tags": []
          },
          "execution_count": 17
        }
      ]
    },
    {
      "cell_type": "code",
      "metadata": {
        "colab": {
          "base_uri": "https://localhost:8080/",
          "height": 279
        },
        "id": "POHp-oJp2RJ9",
        "outputId": "b6af5c88-acae-4ce6-e15a-0926fcc01460"
      },
      "source": [
        "\r\n",
        "X = data[[\"LoanAmount\",\"ApplicantIncome\"]]\r\n",
        "#Visualise data points\r\n",
        "plt.scatter(X[\"ApplicantIncome\"],X[\"LoanAmount\"],c='black')\r\n",
        "plt.xlabel('AnnualIncome')\r\n",
        "plt.ylabel('Loan Amount (In Thousands)')\r\n",
        "plt.show()"
      ],
      "execution_count": 18,
      "outputs": [
        {
          "output_type": "display_data",
          "data": {
            "image/png": "[encoded data removed]",
            "text/plain": [
              "<Figure size 432x288 with 1 Axes>"
            ]
          },
          "metadata": {
            "tags": [],
            "needs_background": "light"
          }
        }
      ]
    },
    {
      "cell_type": "code",
      "metadata": {
        "colab": {
          "base_uri": "https://localhost:8080/",
          "height": 279
        },
        "id": "RiBcOI4e2ZNo",
        "outputId": "d8152908-0b7e-44c9-c977-7ffb8c1d76f4"
      },
      "source": [
        "# Step 1 and 2 - Choose the number of clusters (k) and select random centroid for each cluster\r\n",
        "\r\n",
        "#number of clusters\r\n",
        "K=3\r\n",
        "\r\n",
        "# Select random observation as centroids\r\n",
        "Centroids = (X.sample(n=K))\r\n",
        "plt.scatter(X[\"ApplicantIncome\"],X[\"LoanAmount\"],c='black')\r\n",
        "plt.scatter(Centroids[\"ApplicantIncome\"],Centroids[\"LoanAmount\"],c='red')\r\n",
        "plt.xlabel('AnnualIncome')\r\n",
        "plt.ylabel('Loan Amount (In Thousands)')\r\n",
        "plt.show()"
      ],
      "execution_count": 19,
      "outputs": [
        {
          "output_type": "display_data",
          "data": {
            "image/png": "[encoded data removed]",
            "text/plain": [
              "<Figure size 432x288 with 1 Axes>"
            ]
          },
          "metadata": {
            "tags": [],
            "needs_background": "light"
          }
        }
      ]
    },
    {
      "cell_type": "code",
      "metadata": {
        "colab": {
          "base_uri": "https://localhost:8080/"
        },
        "id": "Tueu4PXn23Md",
        "outputId": "ea4febfd-2dd2-4c12-97c2-6ee293434dc7"
      },
      "source": [
        "# Step 3 - Assign all the points to the closest cluster centroid\r\n",
        "# Step 4 - Recompute centroids of newly formed clusters\r\n",
        "# Step 5 - Repeat step 3 and 4\r\n",
        "\r\n",
        "diff = 1\r\n",
        "j=0\r\n",
        "\r\n",
        "while(diff!=0):\r\n",
        "    XD=X\r\n",
        "    i=1\r\n",
        "    for index1,row_c in Centroids.iterrows():\r\n",
        "        ED=[]\r\n",
        "        for index2,row_d in XD.iterrows():\r\n",
        "            d1=(row_c[\"ApplicantIncome\"]-row_d[\"ApplicantIncome\"])**2\r\n",
        "            d2=(row_c[\"LoanAmount\"]-row_d[\"LoanAmount\"])**2\r\n",
        "            d=np.sqrt(d1+d2)\r\n",
        "            ED.append(d)\r\n",
        "        X[i]=ED\r\n",
        "        i=i+1\r\n",
        "\r\n",
        "    C=[]\r\n",
        "    for index,row in X.iterrows():\r\n",
        "        min_dist=row[1]\r\n",
        "        pos=1\r\n",
        "        for i in range(K):\r\n",
        "            if row[i+1] < min_dist:\r\n",
        "                min_dist = row[i+1]\r\n",
        "                pos=i+1\r\n",
        "        C.append(pos)\r\n",
        "    X[\"Cluster\"]=C\r\n",
        "    Centroids_new = X.groupby([\"Cluster\"]).mean()[[\"LoanAmount\",\"ApplicantIncome\"]]\r\n",
        "    if j == 0:\r\n",
        "        diff=1\r\n",
        "        j=j+1\r\n",
        "    else:\r\n",
        "        diff = (Centroids_new['LoanAmount'] - Centroids['LoanAmount']).sum() + (Centroids_new['ApplicantIncome'] - Centroids['ApplicantIncome']).sum()\r\n",
        "        print(diff.sum())\r\n",
        "    Centroids = X.groupby([\"Cluster\"]).mean()[[\"LoanAmount\",\"ApplicantIncome\"]]"
      ],
      "execution_count": 20,
      "outputs": [
        {
          "output_type": "stream",
          "text": [
            "/usr/local/lib/python3.6/dist-packages/ipykernel_launcher.py:18: SettingWithCopyWarning: \n",
            "A value is trying to be set on a copy of a slice from a DataFrame.\n",
            "Try using .loc[row_indexer,col_indexer] = value instead\n",
            "\n",
            "See the caveats in the documentation: https://pandas.pydata.org/pandas-docs/stable/user_guide/indexing.html#returning-a-view-versus-a-copy\n",
            "/usr/local/lib/python3.6/dist-packages/ipykernel_launcher.py:30: SettingWithCopyWarning: \n",
            "A value is trying to be set on a copy of a slice from a DataFrame.\n",
            "Try using .loc[row_indexer,col_indexer] = value instead\n",
            "\n",
            "See the caveats in the documentation: https://pandas.pydata.org/pandas-docs/stable/user_guide/indexing.html#returning-a-view-versus-a-copy\n"
          ],
          "name": "stderr"
        },
        {
          "output_type": "stream",
          "text": [
            "589.6144743055597\n",
            "455.4374305147912\n",
            "443.73435607361273\n",
            "182.04631783927195\n",
            "207.02731030932063\n",
            "277.68763984371935\n",
            "244.66095351174067\n",
            "229.06905235705375\n",
            "218.24897861156342\n",
            "107.07928213052429\n",
            "52.84741626127729\n",
            "98.54724443834282\n",
            "90.64953219227577\n",
            "18.274686272279013\n",
            "9.21023994083339\n",
            "18.345487493007468\n",
            "46.27013250786139\n",
            "0.0\n"
          ],
          "name": "stdout"
        }
      ]
    },
    {
      "cell_type": "code",
      "metadata": {
        "colab": {
          "base_uri": "https://localhost:8080/",
          "height": 279
        },
        "id": "be1G_fIP3FQQ",
        "outputId": "8ca937ae-b470-4a03-a999-ec3c104b66cf"
      },
      "source": [
        "color=['blue','green','cyan']\r\n",
        "for k in range(K):\r\n",
        "    data=X[X[\"Cluster\"]==k+1]\r\n",
        "    plt.scatter(data[\"ApplicantIncome\"],data[\"LoanAmount\"],c=color[k])\r\n",
        "plt.scatter(Centroids[\"ApplicantIncome\"],Centroids[\"LoanAmount\"],c='red')\r\n",
        "plt.xlabel('Income')\r\n",
        "plt.ylabel('Loan Amount (In Thousands)')\r\n",
        "plt.show()"
      ],
      "execution_count": 21,
      "outputs": [
        {
          "output_type": "display_data",
          "data": {
            "image/png": "[encoded data removed]",
            "text/plain": [
              "<Figure size 432x288 with 1 Axes>"
            ]
          },
          "metadata": {
            "tags": [],
            "needs_background": "light"
          }
        }
      ]
    },
    {
      "cell_type": "code",
      "metadata": {
        "id": "Xf81tDcR3Mmz"
      },
      "source": [
        ""
      ],
      "execution_count": null,
      "outputs": []
    }
  ]
}